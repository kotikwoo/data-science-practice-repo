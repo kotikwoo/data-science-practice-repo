{
  "nbformat": 4,
  "nbformat_minor": 0,
  "metadata": {
    "colab": {
      "provenance": [],
      "authorship_tag": "ABX9TyPh4rlVzynBCmG2KEKx1dHZ",
      "include_colab_link": true
    },
    "kernelspec": {
      "name": "python3",
      "display_name": "Python 3"
    },
    "language_info": {
      "name": "python"
    }
  },
  "cells": [
    {
      "cell_type": "markdown",
      "metadata": {
        "id": "view-in-github",
        "colab_type": "text"
      },
      "source": [
        "<a href=\"https://colab.research.google.com/github/kotikwoo/data-science-practice-repo/blob/main/recommendation_systems.ipynb\" target=\"_parent\"><img src=\"https://colab.research.google.com/assets/colab-badge.svg\" alt=\"Open In Colab\"/></a>"
      ]
    },
    {
      "cell_type": "markdown",
      "source": [
        "Instaling *LightFM* library"
      ],
      "metadata": {
        "id": "MNwP1mxEVrRV"
      }
    },
    {
      "cell_type": "code",
      "execution_count": 4,
      "metadata": {
        "id": "hU-RSG4GgdT8",
        "colab": {
          "base_uri": "https://localhost:8080/"
        },
        "outputId": "15b5391b-a3e8-46cb-ae97-889b7499d7d6"
      },
      "outputs": [
        {
          "output_type": "stream",
          "name": "stdout",
          "text": [
            "Collecting lightfm\n",
            "  Downloading lightfm-1.17.tar.gz (316 kB)\n",
            "\u001b[?25l     \u001b[90m━━━━━━━━━━━━━━━━━━━━━━━━━━━━━━━━━━━━━━━━\u001b[0m \u001b[32m0.0/316.4 kB\u001b[0m \u001b[31m?\u001b[0m eta \u001b[36m-:--:--\u001b[0m\r\u001b[2K     \u001b[91m━━━━━━━\u001b[0m\u001b[91m╸\u001b[0m\u001b[90m━━━━━━━━━━━━━━━━━━━━━━━━━━━━━━━━\u001b[0m \u001b[32m61.4/316.4 kB\u001b[0m \u001b[31m2.1 MB/s\u001b[0m eta \u001b[36m0:00:01\u001b[0m\r\u001b[2K     \u001b[91m━━━━━━━━━━━━━━━━━━━━━━━━━━━━━━━━━━━━━\u001b[0m\u001b[91m╸\u001b[0m\u001b[90m━\u001b[0m \u001b[32m307.2/316.4 kB\u001b[0m \u001b[31m5.0 MB/s\u001b[0m eta \u001b[36m0:00:01\u001b[0m\r\u001b[2K     \u001b[90m━━━━━━━━━━━━━━━━━━━━━━━━━━━━━━━━━━━━━━━\u001b[0m \u001b[32m316.4/316.4 kB\u001b[0m \u001b[31m4.4 MB/s\u001b[0m eta \u001b[36m0:00:00\u001b[0m\n",
            "\u001b[?25h  Preparing metadata (setup.py) ... \u001b[?25l\u001b[?25hdone\n",
            "Requirement already satisfied: numpy in /usr/local/lib/python3.10/dist-packages (from lightfm) (1.22.4)\n",
            "Requirement already satisfied: scipy>=0.17.0 in /usr/local/lib/python3.10/dist-packages (from lightfm) (1.10.1)\n",
            "Requirement already satisfied: requests in /usr/local/lib/python3.10/dist-packages (from lightfm) (2.27.1)\n",
            "Requirement already satisfied: scikit-learn in /usr/local/lib/python3.10/dist-packages (from lightfm) (1.2.2)\n",
            "Requirement already satisfied: urllib3<1.27,>=1.21.1 in /usr/local/lib/python3.10/dist-packages (from requests->lightfm) (1.26.16)\n",
            "Requirement already satisfied: certifi>=2017.4.17 in /usr/local/lib/python3.10/dist-packages (from requests->lightfm) (2023.7.22)\n",
            "Requirement already satisfied: charset-normalizer~=2.0.0 in /usr/local/lib/python3.10/dist-packages (from requests->lightfm) (2.0.12)\n",
            "Requirement already satisfied: idna<4,>=2.5 in /usr/local/lib/python3.10/dist-packages (from requests->lightfm) (3.4)\n",
            "Requirement already satisfied: joblib>=1.1.1 in /usr/local/lib/python3.10/dist-packages (from scikit-learn->lightfm) (1.3.1)\n",
            "Requirement already satisfied: threadpoolctl>=2.0.0 in /usr/local/lib/python3.10/dist-packages (from scikit-learn->lightfm) (3.2.0)\n",
            "Building wheels for collected packages: lightfm\n",
            "  Building wheel for lightfm (setup.py) ... \u001b[?25l\u001b[?25hdone\n",
            "  Created wheel for lightfm: filename=lightfm-1.17-cp310-cp310-linux_x86_64.whl size=808331 sha256=89f99d5d209bd31e4ff478c517428cc87baa5b15be8a1d6898cb03b8921d2198\n",
            "  Stored in directory: /root/.cache/pip/wheels/4f/9b/7e/0b256f2168511d8fa4dae4fae0200fdbd729eb424a912ad636\n",
            "Successfully built lightfm\n",
            "Installing collected packages: lightfm\n",
            "Successfully installed lightfm-1.17\n"
          ]
        }
      ],
      "source": [
        "pip install lightfm"
      ]
    },
    {
      "cell_type": "code",
      "source": [
        "import numpy as np\n",
        "import scipy as sp\n",
        "from lightfm import LightFM\n",
        "from lightfm.datasets import fetch_movielens"
      ],
      "metadata": {
        "id": "jEe_WbXlTZMz"
      },
      "execution_count": 5,
      "outputs": []
    },
    {
      "cell_type": "code",
      "source": [
        "#fetch data and format\n",
        "data = fetch_movielens(min_rating = 4.0)\n",
        "\n",
        "#printing training and testing data\n",
        "print(repr(data['train']))\n",
        "print(repr(data['test']))"
      ],
      "metadata": {
        "colab": {
          "base_uri": "https://localhost:8080/"
        },
        "id": "720JuuiLSc_U",
        "outputId": "85ebd243-4fcc-4ad7-99d0-016b17068686"
      },
      "execution_count": 6,
      "outputs": [
        {
          "output_type": "stream",
          "name": "stdout",
          "text": [
            "<943x1682 sparse matrix of type '<class 'numpy.int32'>'\n",
            "\twith 49906 stored elements in COOrdinate format>\n",
            "<943x1682 sparse matrix of type '<class 'numpy.int32'>'\n",
            "\twith 5469 stored elements in COOrdinate format>\n"
          ]
        }
      ]
    },
    {
      "cell_type": "code",
      "source": [
        "#creating the model\n",
        "model = LightFM(loss = 'warp')\n",
        "\n",
        "#training the model\n",
        "model.fit(data['train'], epochs = 30, num_threads = 2)\n"
      ],
      "metadata": {
        "colab": {
          "base_uri": "https://localhost:8080/"
        },
        "id": "rK8VJcZoVkIc",
        "outputId": "0048fa7d-54fe-4544-9ab5-fe9ef42de3dd"
      },
      "execution_count": 7,
      "outputs": [
        {
          "output_type": "execute_result",
          "data": {
            "text/plain": [
              "<lightfm.lightfm.LightFM at 0x786b51cc27a0>"
            ]
          },
          "metadata": {},
          "execution_count": 7
        }
      ]
    },
    {
      "cell_type": "code",
      "source": [
        "def sample_recommendations(model, data, user_ids):\n",
        "  #users and movies\n",
        "  n_users, n_items = data['train'].shape\n",
        "\n",
        "  #generating recommendations for each user that inputed\n",
        "  for user_id in user_ids:\n",
        "\n",
        "    #movies that already liken\n",
        "    was_positive = data['item_labels'][data['train'].tocsr()[user_id].indices]\n",
        "\n",
        "    #predictions for movies\n",
        "    scores = model.predict(user_id, np.arange(n_items))\n",
        "    #ranking movies in descending order\n",
        "    top_items = data['item_labels'][np.argsort(-scores)]\n",
        "\n",
        "    #results\n",
        "    print(f\"User {user_id}\")\n",
        "    print(\"Known positive movies: \")\n",
        "    for x in was_positive[:3]:\n",
        "      print(x)\n",
        "\n",
        "    print(\"Recommended\")\n",
        "    for x in top_items[:3]:\n",
        "      print(x)"
      ],
      "metadata": {
        "id": "xAcKbQA5YuT_"
      },
      "execution_count": 23,
      "outputs": []
    },
    {
      "cell_type": "code",
      "source": [
        "sample_recommendations(model, data, [3, 25, 30])"
      ],
      "metadata": {
        "colab": {
          "base_uri": "https://localhost:8080/"
        },
        "id": "I8M03WtJk56l",
        "outputId": "5b76f2b8-0a83-4de7-d39f-e4f6e4d20a4f"
      },
      "execution_count": 25,
      "outputs": [
        {
          "output_type": "stream",
          "name": "stdout",
          "text": [
            "User 3\n",
            "Known positive movies: \n",
            "S\n",
            "C\n",
            "S\n",
            "Recommended\n",
            "S\n",
            "A\n",
            "G\n",
            "User 25\n",
            "Known positive movies: \n",
            "D\n",
            "S\n",
            "F\n",
            "Recommended\n",
            "E\n",
            "F\n",
            "C\n",
            "User 30\n",
            "Known positive movies: \n",
            "C\n",
            "L\n",
            "M\n",
            "Recommended\n",
            "A\n",
            "S\n",
            "C\n"
          ]
        }
      ]
    }
  ]
}